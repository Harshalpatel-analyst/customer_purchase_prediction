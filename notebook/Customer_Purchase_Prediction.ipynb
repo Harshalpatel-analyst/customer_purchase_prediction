{
 "cells": [
  {
   "cell_type": "markdown",
   "id": "de9f92c6",
   "metadata": {},
   "source": [
    "# Will This Customer Purchase Your Product? - Data Analysis and Predictive Model\n",
    "\n",
    "## 1. Project Objective\n",
    "Analyze online shopping sessions during the busiest months (November & December) to:\n",
    "1. Calculate purchase rates for New vs. Returning customers.\n",
    "2. Identify the strongest correlation between time spent on different page types for returning customers.\n",
    "3. Assess the probability of achieving at least 100 sales out of 500 sessions under a campaign boosting purchase rate by 15%.\n"
   ]
  },
  {
   "cell_type": "code",
   "execution_count": 1,
   "id": "7b31e9fe",
   "metadata": {},
   "outputs": [],
   "source": [
    "## 2. Environment Setup\n",
    "# Python_Libraries\n",
    "import numpy as np\n",
    "import pandas as pd\n",
    "import matplotlib.pyplot as plt\n",
    "from scipy.stats import binom"
   ]
  },
  {
   "cell_type": "code",
   "execution_count": 2,
   "id": "41f4a6f0",
   "metadata": {},
   "outputs": [
    {
     "data": {
      "text/html": [
       "<div>\n",
       "<style scoped>\n",
       "    .dataframe tbody tr th:only-of-type {\n",
       "        vertical-align: middle;\n",
       "    }\n",
       "\n",
       "    .dataframe tbody tr th {\n",
       "        vertical-align: top;\n",
       "    }\n",
       "\n",
       "    .dataframe thead th {\n",
       "        text-align: right;\n",
       "    }\n",
       "</style>\n",
       "<table border=\"1\" class=\"dataframe\">\n",
       "  <thead>\n",
       "    <tr style=\"text-align: right;\">\n",
       "      <th></th>\n",
       "      <th>SessionID</th>\n",
       "      <th>Administrative</th>\n",
       "      <th>Administrative_Duration</th>\n",
       "      <th>Informational</th>\n",
       "      <th>Informational_Duration</th>\n",
       "      <th>ProductRelated</th>\n",
       "      <th>ProductRelated_Duration</th>\n",
       "      <th>BounceRates</th>\n",
       "      <th>ExitRates</th>\n",
       "      <th>PageValues</th>\n",
       "      <th>SpecialDay</th>\n",
       "      <th>Weekend</th>\n",
       "      <th>Month</th>\n",
       "      <th>CustomerType</th>\n",
       "      <th>Purchase</th>\n",
       "    </tr>\n",
       "  </thead>\n",
       "  <tbody>\n",
       "    <tr>\n",
       "      <th>0</th>\n",
       "      <td>1</td>\n",
       "      <td>0</td>\n",
       "      <td>0.0</td>\n",
       "      <td>0</td>\n",
       "      <td>0.0</td>\n",
       "      <td>1</td>\n",
       "      <td>0.000000</td>\n",
       "      <td>0.20</td>\n",
       "      <td>0.20</td>\n",
       "      <td>0.0</td>\n",
       "      <td>0.0</td>\n",
       "      <td>False</td>\n",
       "      <td>Feb</td>\n",
       "      <td>Returning_Customer</td>\n",
       "      <td>0.0</td>\n",
       "    </tr>\n",
       "    <tr>\n",
       "      <th>1</th>\n",
       "      <td>2</td>\n",
       "      <td>0</td>\n",
       "      <td>0.0</td>\n",
       "      <td>0</td>\n",
       "      <td>0.0</td>\n",
       "      <td>2</td>\n",
       "      <td>64.000000</td>\n",
       "      <td>0.00</td>\n",
       "      <td>0.10</td>\n",
       "      <td>0.0</td>\n",
       "      <td>0.0</td>\n",
       "      <td>False</td>\n",
       "      <td>Feb</td>\n",
       "      <td>Returning_Customer</td>\n",
       "      <td>0.0</td>\n",
       "    </tr>\n",
       "    <tr>\n",
       "      <th>2</th>\n",
       "      <td>3</td>\n",
       "      <td>0</td>\n",
       "      <td>0.0</td>\n",
       "      <td>0</td>\n",
       "      <td>0.0</td>\n",
       "      <td>1</td>\n",
       "      <td>0.000000</td>\n",
       "      <td>0.20</td>\n",
       "      <td>0.20</td>\n",
       "      <td>0.0</td>\n",
       "      <td>0.0</td>\n",
       "      <td>False</td>\n",
       "      <td>Feb</td>\n",
       "      <td>Returning_Customer</td>\n",
       "      <td>0.0</td>\n",
       "    </tr>\n",
       "    <tr>\n",
       "      <th>3</th>\n",
       "      <td>4</td>\n",
       "      <td>0</td>\n",
       "      <td>0.0</td>\n",
       "      <td>0</td>\n",
       "      <td>0.0</td>\n",
       "      <td>2</td>\n",
       "      <td>2.666667</td>\n",
       "      <td>0.05</td>\n",
       "      <td>0.14</td>\n",
       "      <td>0.0</td>\n",
       "      <td>0.0</td>\n",
       "      <td>False</td>\n",
       "      <td>Feb</td>\n",
       "      <td>Returning_Customer</td>\n",
       "      <td>0.0</td>\n",
       "    </tr>\n",
       "    <tr>\n",
       "      <th>4</th>\n",
       "      <td>5</td>\n",
       "      <td>0</td>\n",
       "      <td>0.0</td>\n",
       "      <td>0</td>\n",
       "      <td>0.0</td>\n",
       "      <td>10</td>\n",
       "      <td>627.500000</td>\n",
       "      <td>0.02</td>\n",
       "      <td>0.05</td>\n",
       "      <td>0.0</td>\n",
       "      <td>0.0</td>\n",
       "      <td>True</td>\n",
       "      <td>Feb</td>\n",
       "      <td>Returning_Customer</td>\n",
       "      <td>0.0</td>\n",
       "    </tr>\n",
       "  </tbody>\n",
       "</table>\n",
       "</div>"
      ],
      "text/plain": [
       "   SessionID  Administrative  Administrative_Duration  Informational  \\\n",
       "0          1               0                      0.0              0   \n",
       "1          2               0                      0.0              0   \n",
       "2          3               0                      0.0              0   \n",
       "3          4               0                      0.0              0   \n",
       "4          5               0                      0.0              0   \n",
       "\n",
       "   Informational_Duration  ProductRelated  ProductRelated_Duration  \\\n",
       "0                     0.0               1                 0.000000   \n",
       "1                     0.0               2                64.000000   \n",
       "2                     0.0               1                 0.000000   \n",
       "3                     0.0               2                 2.666667   \n",
       "4                     0.0              10               627.500000   \n",
       "\n",
       "   BounceRates  ExitRates  PageValues  SpecialDay  Weekend Month  \\\n",
       "0         0.20       0.20         0.0         0.0    False   Feb   \n",
       "1         0.00       0.10         0.0         0.0    False   Feb   \n",
       "2         0.20       0.20         0.0         0.0    False   Feb   \n",
       "3         0.05       0.14         0.0         0.0    False   Feb   \n",
       "4         0.02       0.05         0.0         0.0     True   Feb   \n",
       "\n",
       "         CustomerType  Purchase  \n",
       "0  Returning_Customer       0.0  \n",
       "1  Returning_Customer       0.0  \n",
       "2  Returning_Customer       0.0  \n",
       "3  Returning_Customer       0.0  \n",
       "4  Returning_Customer       0.0  "
      ]
     },
     "execution_count": 2,
     "metadata": {},
     "output_type": "execute_result"
    }
   ],
   "source": [
    "## 3. Data Loading\n",
    "shopping_data= pd.read_csv(r\"C:\\Users\\harsh\\Downloads\\workspace (1)\\workspace\\online_shopping_session_data.csv\")\n",
    "#quick look\n",
    "shopping_data.head()"
   ]
  },
  {
   "cell_type": "code",
   "execution_count": 3,
   "id": "f9f61a4d",
   "metadata": {},
   "outputs": [
    {
     "name": "stdout",
     "output_type": "stream",
     "text": [
      "Rows, columns: (12055, 15)\n",
      "<class 'pandas.core.frame.DataFrame'>\n",
      "RangeIndex: 12055 entries, 0 to 12054\n",
      "Data columns (total 15 columns):\n",
      " #   Column                   Non-Null Count  Dtype  \n",
      "---  ------                   --------------  -----  \n",
      " 0   SessionID                12055 non-null  int64  \n",
      " 1   Administrative           12055 non-null  int64  \n",
      " 2   Administrative_Duration  12055 non-null  float64\n",
      " 3   Informational            12055 non-null  int64  \n",
      " 4   Informational_Duration   12055 non-null  float64\n",
      " 5   ProductRelated           12055 non-null  int64  \n",
      " 6   ProductRelated_Duration  12055 non-null  float64\n",
      " 7   BounceRates              12055 non-null  float64\n",
      " 8   ExitRates                12055 non-null  float64\n",
      " 9   PageValues               12055 non-null  float64\n",
      " 10  SpecialDay               12055 non-null  float64\n",
      " 11  Weekend                  12055 non-null  bool   \n",
      " 12  Month                    12055 non-null  object \n",
      " 13  CustomerType             12054 non-null  object \n",
      " 14  Purchase                 12054 non-null  float64\n",
      "dtypes: bool(1), float64(8), int64(4), object(2)\n",
      "memory usage: 1.3+ MB\n",
      "months: ['Feb' 'Mar' 'May' 'Oct' 'June' 'Jul' 'Aug' 'Nov' 'Sep' 'Dec' 'N']\n",
      "Customer Types: ['Returning_Customer' 'New_Customer' nan]\n"
     ]
    }
   ],
   "source": [
    "## 4. Data Overview\n",
    "# Shape and types\n",
    "print(f\"Rows, columns: {shopping_data.shape}\")\n",
    "shopping_data.info()\n",
    "# Basic Statistics\n",
    "shopping_data.describe()\n",
    "# Unique months and customer types\n",
    "print(\"months:\", shopping_data['Month'].unique())\n",
    "print(\"Customer Types:\", shopping_data['CustomerType'].unique())"
   ]
  },
  {
   "cell_type": "code",
   "execution_count": 4,
   "id": "0a696b0e",
   "metadata": {},
   "outputs": [
    {
     "data": {
      "text/plain": [
       "{'Returning_Cutomer': 0.196, 'New_Customer': 0.273}"
      ]
     },
     "execution_count": 4,
     "metadata": {},
     "output_type": "execute_result"
    }
   ],
   "source": [
    "## 5. Step 1: Purchase Rates by Customer Type (Nov & Dec)\n",
    "# filter for Nov & Dec\n",
    "shopping_data_nov_dec= shopping_data[shopping_data['Month'].isin(['Nov', 'Dec'])]\n",
    "# Compute rates\n",
    "rates = shopping_data_nov_dec.groupby('CustomerType')['Purchase'].mean().round(3)\n",
    "purchase_rates = {\n",
    "    \"Returning_Cutomer\": rates.get('Returning_Customer', 0), \n",
    "    \"New_Customer\": rates.get('New_Customer',0)\n",
    "}\n",
    "purchase_rates\n",
    "\n",
    "# > Result: 'purchase_rates' dictionary with purchase rates rounded to three decimals.\n"
   ]
  },
  {
   "cell_type": "code",
   "execution_count": 5,
   "id": "ce45dbc1",
   "metadata": {},
   "outputs": [
    {
     "data": {
      "text/html": [
       "<div>\n",
       "<style scoped>\n",
       "    .dataframe tbody tr th:only-of-type {\n",
       "        vertical-align: middle;\n",
       "    }\n",
       "\n",
       "    .dataframe tbody tr th {\n",
       "        vertical-align: top;\n",
       "    }\n",
       "\n",
       "    .dataframe thead th {\n",
       "        text-align: right;\n",
       "    }\n",
       "</style>\n",
       "<table border=\"1\" class=\"dataframe\">\n",
       "  <thead>\n",
       "    <tr style=\"text-align: right;\">\n",
       "      <th></th>\n",
       "      <th>Administrative_Duration</th>\n",
       "      <th>Informational_Duration</th>\n",
       "      <th>ProductRelated_Duration</th>\n",
       "    </tr>\n",
       "  </thead>\n",
       "  <tbody>\n",
       "    <tr>\n",
       "      <th>Administrative_Duration</th>\n",
       "      <td>1.000000</td>\n",
       "      <td>0.258108</td>\n",
       "      <td>0.416893</td>\n",
       "    </tr>\n",
       "    <tr>\n",
       "      <th>Informational_Duration</th>\n",
       "      <td>0.258108</td>\n",
       "      <td>1.000000</td>\n",
       "      <td>0.366551</td>\n",
       "    </tr>\n",
       "    <tr>\n",
       "      <th>ProductRelated_Duration</th>\n",
       "      <td>0.416893</td>\n",
       "      <td>0.366551</td>\n",
       "      <td>1.000000</td>\n",
       "    </tr>\n",
       "  </tbody>\n",
       "</table>\n",
       "</div>"
      ],
      "text/plain": [
       "                         Administrative_Duration  Informational_Duration  \\\n",
       "Administrative_Duration                 1.000000                0.258108   \n",
       "Informational_Duration                  0.258108                1.000000   \n",
       "ProductRelated_Duration                 0.416893                0.366551   \n",
       "\n",
       "                         ProductRelated_Duration  \n",
       "Administrative_Duration                 0.416893  \n",
       "Informational_Duration                  0.366551  \n",
       "ProductRelated_Duration                 1.000000  "
      ]
     },
     "execution_count": 5,
     "metadata": {},
     "output_type": "execute_result"
    }
   ],
   "source": [
    "## 6. Step 2: Correlation Analysis (Returning Customers)\n",
    "# Subset returning customers\n",
    "shopping_data_nov_dec_returning= shopping_data_nov_dec[shopping_data_nov_dec['CustomerType']== 'Returning_Customer']\n",
    "# Duration columns\n",
    "dur_cols= ['Administrative_Duration', 'Informational_Duration', 'ProductRelated_Duration']\n",
    "# Correlation matrix\n",
    "corr_mat = shopping_data_nov_dec_returning[dur_cols].corr()\n",
    "# Display matrix\n",
    "corr_mat"
   ]
  },
  {
   "cell_type": "code",
   "execution_count": 6,
   "id": "d71ffa3a",
   "metadata": {},
   "outputs": [
    {
     "data": {
      "text/plain": [
       "<function matplotlib.pyplot.show(close=None, block=None)>"
      ]
     },
     "execution_count": 6,
     "metadata": {},
     "output_type": "execute_result"
    },
    {
     "data": {
      "image/png": "[encoded data removed]",
      "text/plain": [
       "<Figure size 600x500 with 2 Axes>"
      ]
     },
     "metadata": {},
     "output_type": "display_data"
    }
   ],
   "source": [
    "### 6.1 Visulaize Correlation Heatmap\n",
    "plt.figure(figsize= (6, 5))\n",
    "plt.imshow(corr_mat, interpolation='nearest', aspect= 'auto')\n",
    "plt.colorbar()\n",
    "plt.xticks(range(len(dur_cols)), dur_cols, rotation= 45)\n",
    "plt.yticks(range(len(dur_cols)), dur_cols)\n",
    "plt.title('Correlation Matrix of Time Spent (Returning)')\n",
    "plt.tight_layout()\n",
    "plt.show"
   ]
  },
  {
   "cell_type": "code",
   "execution_count": 7,
   "id": "d056f8e8",
   "metadata": {},
   "outputs": [
    {
     "data": {
      "text/plain": [
       "{'pair': ('Administrative_Duration', 'ProductRelated_Duration'),\n",
       " 'correlation': 0.417}"
      ]
     },
     "execution_count": 7,
     "metadata": {},
     "output_type": "execute_result"
    }
   ],
   "source": [
    "### 6.2 Extract Strongest Correlation\n",
    "# Flatten and filter\n",
    "pairs = corr_mat.unstack()\n",
    "real_pairs = pairs[pairs<1].drop_duplicates()\n",
    "# Identify top\n",
    "top_pair = real_pairs.idxmax()\n",
    "top_value = round(real_pairs.max(), 3)\n",
    "top_correlation = {'pair': top_pair, 'correlation': top_value}\n",
    "top_correlation\n",
    "\n",
    "# > Restult: 'top_correlation' dictionary with the strongest duration pair and its correlation."
   ]
  },
  {
   "cell_type": "code",
   "execution_count": 8,
   "id": "07d3bec3",
   "metadata": {},
   "outputs": [
    {
     "data": {
      "text/plain": [
       "0.9226831294359368"
      ]
     },
     "execution_count": 8,
     "metadata": {},
     "output_type": "execute_result"
    }
   ],
   "source": [
    "## 7 . Step 3 BinomiaL  Probability for Campaign\n",
    "# Original rate for returning\n",
    "orig_rate = purchase_rates['Returning_Cutomer']\n",
    "# Boost by 15%\n",
    "boosted_rate = orig_rate * 1.15\n",
    "\n",
    "# Binomial parameters\n",
    "n, k = 500, 100\n",
    "\n",
    "# Probability of >= 100 successes\n",
    "prob_at_least_100_sales = binom.sf (k-1, n , boosted_rate)\n",
    "prob_at_least_100_sales"
   ]
  },
  {
   "cell_type": "code",
   "execution_count": 9,
   "id": "12247eca",
   "metadata": {},
   "outputs": [
    {
     "data": {
      "image/png": "[encoded data removed]",
      "text/plain": [
       "<Figure size 1000x500 with 1 Axes>"
      ]
     },
     "metadata": {},
     "output_type": "display_data"
    }
   ],
   "source": [
    "### 7.1 Visualize the Distrubution\n",
    "# Compute PMF \n",
    "x = np. arange(0, n+1)\n",
    "pmf = binom.pmf(x, n, boosted_rate)\n",
    "\n",
    "plt.figure(figsize=(10, 5))\n",
    "plt.bar(x, pmf, alpha=0.6)\n",
    "plt.bar(x[x>=k], pmf[x>=k], alpha=0.9)\n",
    "plt.axvline(k, color='red', linestyle='--')\n",
    "plt.title('Binomial Distribution: Sales under Campaign')\n",
    "plt.xlabel('Number of Purchases')\n",
    "plt.ylabel('Probability')\n",
    "plt.tight_layout()\n",
    "plt.show()\n",
    "\n",
    "# >Result: Visual shows probability mass across outcomes, highlighting the region ≥100."
   ]
  },
  {
   "cell_type": "markdown",
   "id": "a2939ddd",
   "metadata": {},
   "source": [
    "## 8. Conclusions & Recommendations\n",
    "\n",
    "- **Purchase Rates:** The purchase rate for returning customers is 0.196, while for new customers, it is 0.273. The new customers show a slightly higher purchase rate, suggesting a need for targeted strategies to engage returning customers more effectively.\n",
    "\n",
    "- **Behavior Correlation:** The strongest positive correlation (0.417) is found between `Administrative_Duration` and `ProductRelated_Duration`. This suggests that the more time returning customers spend on administrative tasks, the more likely they are to engage with product pages. Streamlining administrative tasks might improve product-related browsing and potential conversions.\n",
    "\n",
    "- **Campaign Success Probability:** With a 15% boost in the purchase rate for returning customers, the probability of achieving at least 100 purchases out of 500 sessions is calculated as `prob_at_least_100_sales`. This value can be used to assess the potential success of the marketing campaign and guide investment decisions."
   ]
  }
 ],
 "metadata": {
  "kernelspec": {
   "display_name": "base",
   "language": "python",
   "name": "python3"
  },
  "language_info": {
   "codemirror_mode": {
    "name": "ipython",
    "version": 3
   },
   "file_extension": ".py",
   "mimetype": "text/x-python",
   "name": "python",
   "nbconvert_exporter": "python",
   "pygments_lexer": "ipython3",
   "version": "3.11.7"
  }
 },
 "nbformat": 4,
 "nbformat_minor": 5
}
